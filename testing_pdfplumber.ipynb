{
 "cells": [
  {
   "cell_type": "code",
   "execution_count": 2,
   "id": "2c751dd9-59ff-466c-99d1-3ca0be7e1852",
   "metadata": {},
   "outputs": [],
   "source": [
    "import pdfplumber"
   ]
  },
  {
   "cell_type": "code",
   "execution_count": 5,
   "id": "4c79952f-554c-43f8-b9b7-5fa0bd461cf7",
   "metadata": {},
   "outputs": [
    {
     "name": "stdout",
     "output_type": "stream",
     "text": [
      "Big Data Systems\n",
      "Overview\n",
      "Instructor Name and Contact Information:\n",
      "Adam Tashman\n",
      "Email:apt4c@virginia.edu\n",
      "Subject Area and Catalog Number:Data Science DS 5110\n",
      "Year and Term:Summer 2021\n",
      "Class Title:Big Data Systems\n",
      "Level:Graduate\n",
      "Credit Type:Graded\n",
      "Class Description\n",
      "Increasingly, data scientists and data engineers areworking with datasets that exceed the memory of a\n",
      "single machine. This motivates the need for a differentparadigm of computing and a different toolset.\n",
      "This course will prepare you for this use case.\n",
      "The focus of the course is learning Spark, an open-source,general-purpose computing framework that is\n",
      "scalable and blazingly fast. The fundamental datatypes and concepts will be covered (e.g., resilient\n",
      "distributed datasets, DataFrames). You will learnhow to use Spark for large-scale analytics and machine\n",
      "learning, among other topics. Tools for data storageand retrieval will be covered, including AWS andthe\n",
      "Hadoop ecosystem.\n",
      "A team project is a large component of the course,whereby you will conduct an end-to-end data science\n",
      "project. This simulates the workflow of a professionaldata scientist, from developing a hypothesis to\n",
      "communicating with stakeholders.\n",
      "\n",
      "\n",
      "\n",
      "----> PAGE 1 <----\n",
      "\n",
      "\n",
      "\n",
      "After completing this course, you will have developedvaluable data science skills and experience\n",
      "working with big data frameworks.\n",
      "Required Text\n",
      "Jules Damji, Brooke Wenig, Tathagata Das, and DennyLee. 2020.Learning Spark: Lightning-Fast Big Data\n",
      "Analytics.2nd edition. Sebastopol: O'Reilly Media,Inc.\n",
      "Tomasz Drabas, Denny Lee. 2017.Learning PySpark:Build data-intensive applications locally and deploy\n",
      "at scale using the combined powers of Python and Spark2.0. Birmingham: Packt Publishing.\n",
      "Learning Outcomes\n",
      "Upon successful completion of this course, you willbe able to:\n",
      "1. Execute distributed computing frameworks using MapReduceand Spark\n",
      "2. Demonstrate knowledge of applications for big datastorage, retrieval, processing, and modeling\n",
      "using Amazon AWS, Hive, and others from the Hadoopecosystem\n",
      "3. Implement PySpark for prevalent data science tasks,including data analysis and machine\n",
      "learning\n",
      "4. Execute an end-to-end predictive modeling projectusing a large dataset\n",
      "Delivery Mode Expectations\n",
      "Web-based with weekly live meetings\n",
      "Required Technical Resources and Technical Components\n",
      "● VPN app: Cisco AnyConnect\n",
      "Class Speciﬁc Information\n",
      "Class Instruction and Activities\n",
      "The topics covered in this course include the following:\n",
      "● Map Reduce Framework\n",
      "● Getting started in Spark\n",
      "● Fundamental objects in Spark: RDDs, Key Value Pairs,DataFrames\n",
      "● Running on a cluster\n",
      "● Machine Learning with MLlib Library\n",
      "o Model tuning, training, validation\n",
      "o Data preprocessing\n",
      "o Pipelines\n",
      "o Classical problems: classification, regression, clustering,recommendation\n",
      "\n",
      "\n",
      "\n",
      "----> PAGE 2 <----\n",
      "\n",
      "\n",
      "\n",
      "● HDFS for distributed data storage\n",
      "● Hive for querying against big data\n",
      "● Amazon AWS tools for computing, storage, and retrieval\n",
      "● Streaming systems including Spark Streaming\n",
      "● Workflows with Tensors, including Google TensorFlow\n",
      "● GraphX\n",
      "Class Requirements\n",
      "Prior to taking this course, you should meet the followingprerequisites:\n",
      "● At least one programming course\n",
      "● Regression Analysis\n",
      "● Machine Learning or Data Mining\n",
      "The following are strongly recommended:\n",
      "● Programming in Python (since PySpark will be usedin this course)\n",
      "● At least one course in Probability\n",
      "\n",
      "\n",
      "\n",
      "----> PAGE 3 <----\n",
      "\n",
      "\n",
      "\n",
      "Evaluation Standards and Assessments\n",
      "Quizzes Quizzes will assess student knowledge and applicationof topics\n",
      "covered in reading assignments and modules.\n",
      "Participation Student participation and feedback are required andinclude\n",
      "contributions to the live sessions and meaningfulposts and\n",
      "responses in discussions.\n",
      "Programming Assignments Programming assignments will be implemented in JupyterNotebooks\n",
      "and provide hands-on experience writing/modifyingSpark code,\n",
      "while working with various datasets.\n",
      "Final Project The final project is a large component of the courseand it includes\n",
      "data collection, modeling, visualization, and presentation.\n",
      "Your final letter grade will be determined by thefollowing scale:\n",
      "A+ 100 98.0\n",
      "A 97.999 93.0\n",
      "A- 92.999 90.0\n",
      "B+ 89.999 87.0\n",
      "B 86.999 83.0\n",
      "B- 82.999 80.0\n",
      "C+ 79.999 77.0\n",
      "C 76.999 73.0\n",
      "C- 72.999 70.0\n",
      "D+ 69.999 67.0\n",
      "D 66.999 63.0\n",
      "D- 62.999 60.0\n",
      "F 59.999 0\n",
      "\n",
      "\n",
      "\n",
      "----> PAGE 4 <----\n",
      "\n",
      "\n",
      "\n",
      "Class Schedule\n",
      "There are two sections on Wednesdays:\n",
      "Section 1:   7pm - 8pm Eastern Time\n",
      "Section 2:   8:15pm - 9:15pm Eastern Time\n",
      "Communication & Student Response Time\n",
      "Discussion boards are set up in each module and designedto be a place where students can reach out to\n",
      "peers and instructors and ask questions related tocontent and technology. Students are encouraged to\n",
      "check the discussion boards daily for updates andcorrespondence. Specific queries regarding your\n",
      "progress should be addressed to me via email and youwill receive a response within 24 hours.\n",
      "Throughout our time together, the sooner you informme of any problem (personal or academic) that\n",
      "may affect your attendance or performance, the betterthe chance we have of solving it together.\n",
      "Assignments\n",
      "Quizzes (30% of grade)\n",
      "All quizzes are multiple choice, with full pointsawarded for a correct answer, and no points awardedfor\n",
      "an incorrect answer.\n",
      "Participation (10% of grade)\n",
      "Student participation makes the course more interactiveand enriching. For each module, participation\n",
      "points are either earned in full, or not earned. Pointscan be earned in any of the following ways:\n",
      "● Contributing to the live discussion with questions,answers, or comments.\n",
      "● Contributing a meaningful post in a discussion. Postingadd-ons such as “I agree” would not be\n",
      "meaningful, but answering a question would be meaningful.\n",
      "● Posting to an assignment forum. These forums allowfor student exchange of ideas and support.\n",
      "Programming Assignments (30% of grade)\n",
      "Programming assignments will include exercises indata analysis, pipeline development, and machine\n",
      "learning. The outline of the exercise will be sketchedout by the instructor, and students will fill inthe\n",
      "missing pieces, as well as modify and run the code.\n",
      "Final Project (30% of grade)\n",
      "The final group project will include forming a hypothesis,data acquisition and analysis, programming in\n",
      "PySpark, writing a report, and presenting to the class.There will be an ungraded assignment in each\n",
      "module to help build toward the final project.\n",
      "\n",
      "\n",
      "\n",
      "----> PAGE 5 <----\n",
      "\n",
      "\n",
      "\n",
      "The final project will consist of three components, each worth one-third of the final project grade:\n",
      "1. Code\n",
      "2. Presentation\n",
      "3. Paper\n",
      "Grading\n",
      "Assignment Percent of Grade Due\n",
      "Attendance & Participation 10 All modules\n",
      "Programming Assignments 30 Modules 1–7, 9–11\n",
      "Quizzes 30 Modules 1–11\n",
      "Final Project 30 Module 12\n",
      "Spirit of the Course\n",
      "Students must attend weekly live sessions and completethe final project as a team. I encourage you to\n",
      "post on the forums and exchange ideas. For the programmingassignments and quizzes, you should\n",
      "submit your own work.\n",
      "Electronic Submission of Assignments\n",
      "All assignments must be submitted electronically throughCollab by the specified due dates and\n",
      "times. It is crucial to complete all assigned work—failureto do so will likely result in failing the class.\n",
      "For late assignments, 10% of the total grade willbe deducted per day, where the day means 11:59 p.m.\n",
      "Eastern time cutoff. After five days late, it willbe marked as 0 points.\n",
      "Technical Support\n",
      "Technical Speciﬁcations: Computer Hardware\n",
      "Operating system: Microsoft Windows 8.1 (64-bit) orMac OS X 10.10 Minimum hard drive free space:\n",
      "100 GB, SSD recommended Minimum processor speed: Intel4th Gen Core i5 or faster\n",
      "Minimum RAM: 4 GB\n",
      "Technical Support Contacts\n",
      "UVaCollab: collab-support@virginia.edu\n",
      "\n",
      "\n",
      "\n",
      "----> PAGE 6 <----\n",
      "\n",
      "\n",
      "\n",
      "UVA Policies\n",
      "SDS Grading Policies\n",
      "The standing of a graduate student in each courseis indicated by one of the following grades:\n",
      "A+, A, A-; B+,B, B-; C+, C, C-; D+, D, D-; F. B-is the lowest satisfactory grade for graduate credit.\n",
      "Attendance\n",
      "Students are expected to attend all class sessions.Instructors establish attendance and\n",
      "participation requirements for each of their courses.Class requirements, regardless of delivery\n",
      "mode, are not waived due to a student's absence fromclass. Instructors will require students to\n",
      "make up any missed coursework and may deny creditto any student whose absences are excessive.\n",
      "Instructors must keep an attendance record for eachstudent enrolled in the course to document\n",
      "attendance and participation in the class.\n",
      "University Email Policies\n",
      "Students are expected to check their ofﬁcial UVA emailaddresses on a frequent and consistent basis\n",
      "to remain informed of University communications, ascertain communications may be time sensitive.\n",
      "Students who fail to check their email on a regularbasis are responsible for any resulting\n",
      "consequences.\n",
      "Mid-Term and End-of-Class Evaluations\n",
      "Students may be expected to participate in an onlinemid-term evaluation. Students are expected to\n",
      "complete the online end-of-class evaluation. As thesemester comes to a close, students will\n",
      "receive an email with instructions for completingthis. Student feedback will be very valuable to\n",
      "the school, the instructor, and future students. Weask that all students please complete these\n",
      "evaluations in a timely manner. Please be assuredthat the information you submit online will be\n",
      "anonymous and kept conﬁdential.\n",
      "University of Virginia Honor System\n",
      "All work should be pledged in the spirit of the HonorSystem at the University of Virginia. The\n",
      "instructor will indicate which assignments and activitiesare to be done individually and which\n",
      "permit collaboration. The following pledge shouldbe written out at the end of all quizzes,\n",
      "examinations, individual assignments and papers: “I pledge that I have neither given nor received\n",
      "help on this examination (quiz, assignment, etc.).”The pledge must be signed by the student. For\n",
      "more information, visitwww.virginia.edu/honor.\n",
      "Special Needs\n",
      "It is my goal to create a learning experience thatis as accessible as possible. If you anticipate\n",
      "any issues related to the format, materials, or requirementsof this course, please meet with me\n",
      "outside of class so we can explore potential options.Students with disabilities may also wish to\n",
      "\n",
      "\n",
      "\n",
      "----> PAGE 7 <----\n",
      "\n",
      "\n",
      "\n",
      "work with the Student Disability Access Center to discuss a range of options to removing barriers\n",
      "in this course, including ofﬁcial accommodations.Please visit their website for information on\n",
      "this process and to apply for services online: sdac.studenthealth.virginia.edu.If you have already\n",
      "been approved for accommodations through SDAC, pleasesend me your accommodation letter and\n",
      "meet with me so we can develop an implementation plantogether.\n",
      "\n",
      "\n",
      "\n",
      "----> PAGE 8 <----\n",
      "\n",
      "\n",
      "\n"
     ]
    }
   ],
   "source": [
    "page_count = 0\n",
    "\n",
    "with pdfplumber.open('test_data/SDS DS 5559 Spring 2021 Syllabus.pdf') as pdf:\n",
    "    for page in pdf.pages:\n",
    "        page_count += 1\n",
    "        print(page.extract_text())\n",
    "        print(f\"\\n\\n\\n----> PAGE {page_count} <----\\n\\n\\n\")"
   ]
  },
  {
   "cell_type": "code",
   "execution_count": 6,
   "id": "0422aa6a-2f75-46ac-af1c-3537ed8a7ae2",
   "metadata": {},
   "outputs": [],
   "source": [
    "import os"
   ]
  },
  {
   "cell_type": "code",
   "execution_count": 8,
   "id": "68a4ed41-51e5-4bd4-8d04-7daa7e098a3c",
   "metadata": {},
   "outputs": [
    {
     "data": {
      "text/plain": [
       "['SDS DS 5559 Spring 2021 Syllabus.pdf',\n",
       " 'DS 6014 Syllabus Spring 2021.pdf',\n",
       " 'nlp_cheatsheet.pdf',\n",
       " 'syllabus.pdf']"
      ]
     },
     "execution_count": 8,
     "metadata": {},
     "output_type": "execute_result"
    }
   ],
   "source": [
    "os.listdir('./test_data')"
   ]
  },
  {
   "cell_type": "code",
   "execution_count": 10,
   "id": "d85a8af3-871b-4295-add2-d2ce1c2a494a",
   "metadata": {},
   "outputs": [
    {
     "name": "stdout",
     "output_type": "stream",
     "text": [
      "./test_data/SDS DS 5559 Spring 2021 Syllabus.pdf\n",
      "./test_data/DS 6014 Syllabus Spring 2021.pdf\n",
      "./test_data/nlp_cheatsheet.pdf\n",
      "./test_data/syllabus.pdf\n"
     ]
    }
   ],
   "source": [
    "for f in os.listdir('./test_data'):\n",
    "    print('./test_data/'+f)"
   ]
  },
  {
   "cell_type": "code",
   "execution_count": 26,
   "id": "0711e5cf-8335-432a-911d-0dd4bdf18dbb",
   "metadata": {},
   "outputs": [],
   "source": [
    "p_text = []\n",
    "\n",
    "for f in os.listdir('./test_data'):\n",
    "    \n",
    "    page_count = 0\n",
    "    with pdfplumber.open('./test_data/'+f) as pdf:\n",
    "        \n",
    "        doc_text = []\n",
    "        \n",
    "        for page in pdf.pages:\n",
    "            page_count += 1\n",
    "            dt = page.extract_text()\n",
    "            doc_text.append(dt)\n",
    "            p_text.append(t)\n",
    "    p_text.append(doc_text)"
   ]
  },
  {
   "cell_type": "code",
   "execution_count": 28,
   "id": "174da1b3-5e97-45e2-932a-003b6bc1ebc4",
   "metadata": {},
   "outputs": [
    {
     "data": {
      "text/plain": [
       "'DS 6001: PRACTICE AND APPLICATION OF DATA SCIENCE  FALL SEMESTER 2021\\n‣ Article: https://www.tandfonline.com/doi/pdf/10.1080/00031305.2016.1154108?\\nneedAccess=true \\n‣ John W. Tukey \"Exploratory Data Analysis: Past, Present, and Future\", pages 1-7: https://\\napps.dtic.mil/sti/pdfs/ADA266775.pdf \\n‣ “Surfing the Data Pipeline with Python”, chapter 10 \\n• Live session: Tuesday, November 9, 2021, 7p-8m (sec. 1, 17400) or 8:15p-9:15p (sec. 2, 17404) \\n• Reading quiz and lab assignment due date: Sunday, November 14, 2021, 11:59pm \\nModule 11: Static Visualizations \\n• Readings:  \\n‣ Textbook: Molin \"Visualizing Data with Pandas and Matplotlib”, \"Plotting with Seaborn and \\nCustomization Techniques\" https://www.oreilly.com/library/view/hands-on-data-analysis/\\n9781789615326 \\n‣ Textbook: Wilke, chapters 2, 17, 29 https://serialmentor.com/dataviz/ \\n‣ “Surfing the Data Pipeline with Python”, chapter 11 \\n• Live session: Tuesday, November 16, 2021, 7p-8m (sec. 1, 17400) or 8:15p-9:15p (sec. 2, 17404) \\n• Reading quiz and lab assignment due date: Sunday, November 21, 2021, 11:59pm \\nModule 12: Interactive Visualizations \\n• Readings:  \\n‣ Browsing the Plotly Gallery to see what is possible and how to code different graphs: https://\\nplotly.com/python/plotly-fundamentals/ \\n‣ Working through the Dash tutorial: https://dash.plotly.com/installation \\n‣ Some thoughts on how to make an effective UX design: https://www.toptal.com/designers/data-\\nvisualization/dashboard-design-best-practices \\n‣ “Surfing the Data Pipeline with Python”, chapter 12 \\n• Live session: Tuesday, November 30, 2021, 7p-8m (sec. 1, 17400) or 8:15p-9:15p (sec. 2, 17404) \\n• Reading quiz and lab assignment due date: Sunday, December 5, 2021, 11:59pm\\n12'"
      ]
     },
     "execution_count": 28,
     "metadata": {},
     "output_type": "execute_result"
    }
   ],
   "source": [
    "p_text[0]"
   ]
  },
  {
   "cell_type": "code",
   "execution_count": 29,
   "id": "539db674-3bc0-4ff2-84a1-989fc1f25bfc",
   "metadata": {},
   "outputs": [
    {
     "data": {
      "text/plain": [
       "'DS 6001: PRACTICE AND APPLICATION OF DATA SCIENCE  FALL SEMESTER 2021\\n‣ Article: https://www.tandfonline.com/doi/pdf/10.1080/00031305.2016.1154108?\\nneedAccess=true \\n‣ John W. Tukey \"Exploratory Data Analysis: Past, Present, and Future\", pages 1-7: https://\\napps.dtic.mil/sti/pdfs/ADA266775.pdf \\n‣ “Surfing the Data Pipeline with Python”, chapter 10 \\n• Live session: Tuesday, November 9, 2021, 7p-8m (sec. 1, 17400) or 8:15p-9:15p (sec. 2, 17404) \\n• Reading quiz and lab assignment due date: Sunday, November 14, 2021, 11:59pm \\nModule 11: Static Visualizations \\n• Readings:  \\n‣ Textbook: Molin \"Visualizing Data with Pandas and Matplotlib”, \"Plotting with Seaborn and \\nCustomization Techniques\" https://www.oreilly.com/library/view/hands-on-data-analysis/\\n9781789615326 \\n‣ Textbook: Wilke, chapters 2, 17, 29 https://serialmentor.com/dataviz/ \\n‣ “Surfing the Data Pipeline with Python”, chapter 11 \\n• Live session: Tuesday, November 16, 2021, 7p-8m (sec. 1, 17400) or 8:15p-9:15p (sec. 2, 17404) \\n• Reading quiz and lab assignment due date: Sunday, November 21, 2021, 11:59pm \\nModule 12: Interactive Visualizations \\n• Readings:  \\n‣ Browsing the Plotly Gallery to see what is possible and how to code different graphs: https://\\nplotly.com/python/plotly-fundamentals/ \\n‣ Working through the Dash tutorial: https://dash.plotly.com/installation \\n‣ Some thoughts on how to make an effective UX design: https://www.toptal.com/designers/data-\\nvisualization/dashboard-design-best-practices \\n‣ “Surfing the Data Pipeline with Python”, chapter 12 \\n• Live session: Tuesday, November 30, 2021, 7p-8m (sec. 1, 17400) or 8:15p-9:15p (sec. 2, 17404) \\n• Reading quiz and lab assignment due date: Sunday, December 5, 2021, 11:59pm\\n12'"
      ]
     },
     "execution_count": 29,
     "metadata": {},
     "output_type": "execute_result"
    }
   ],
   "source": [
    "p_text[1]"
   ]
  },
  {
   "cell_type": "code",
   "execution_count": 34,
   "id": "7656aabc-b9b9-424f-9a6b-a2b7abf1c0a9",
   "metadata": {},
   "outputs": [
    {
     "data": {
      "text/html": [
       "<div>\n",
       "<style scoped>\n",
       "    .dataframe tbody tr th:only-of-type {\n",
       "        vertical-align: middle;\n",
       "    }\n",
       "\n",
       "    .dataframe tbody tr th {\n",
       "        vertical-align: top;\n",
       "    }\n",
       "\n",
       "    .dataframe thead th {\n",
       "        text-align: right;\n",
       "    }\n",
       "</style>\n",
       "<table border=\"1\" class=\"dataframe\">\n",
       "  <thead>\n",
       "    <tr style=\"text-align: right;\">\n",
       "      <th></th>\n",
       "      <th>file_name</th>\n",
       "    </tr>\n",
       "  </thead>\n",
       "  <tbody>\n",
       "    <tr>\n",
       "      <th>0</th>\n",
       "      <td>SDS DS 5559 Spring 2021 Syllabus.pdf</td>\n",
       "    </tr>\n",
       "    <tr>\n",
       "      <th>1</th>\n",
       "      <td>DS 6014 Syllabus Spring 2021.pdf</td>\n",
       "    </tr>\n",
       "    <tr>\n",
       "      <th>2</th>\n",
       "      <td>nlp_cheatsheet.pdf</td>\n",
       "    </tr>\n",
       "    <tr>\n",
       "      <th>3</th>\n",
       "      <td>syllabus.pdf</td>\n",
       "    </tr>\n",
       "  </tbody>\n",
       "</table>\n",
       "</div>"
      ],
      "text/plain": [
       "                              file_name\n",
       "0  SDS DS 5559 Spring 2021 Syllabus.pdf\n",
       "1      DS 6014 Syllabus Spring 2021.pdf\n",
       "2                    nlp_cheatsheet.pdf\n",
       "3                          syllabus.pdf"
      ]
     },
     "execution_count": 34,
     "metadata": {},
     "output_type": "execute_result"
    }
   ],
   "source": [
    "# make dataframe with 1 column of files in test_data directory\n",
    "import pandas as pd\n",
    "\n",
    "test = pd.DataFrame({'file_name':os.listdir('./test_data')})\n",
    "test"
   ]
  },
  {
   "cell_type": "code",
   "execution_count": 38,
   "id": "fb06d300-e4bb-45e2-a523-a598cd2c8f14",
   "metadata": {},
   "outputs": [],
   "source": [
    "test['col2'] = test['file_name'].map(lambda x: x + 'TEST')"
   ]
  },
  {
   "cell_type": "code",
   "execution_count": 43,
   "id": "b872c022-7195-414c-8935-0c401b8f68ad",
   "metadata": {},
   "outputs": [],
   "source": [
    "# write function to extract text from one pdf\n",
    "def get_pdf_text(path, dat_dir='test_data'):\n",
    "    \n",
    "    page_count = 0\n",
    "    \n",
    "    with pdfplumber.open(dat_dir+'/'+path) as pdf:\n",
    "        for page in pdf.pages:\n",
    "            page_count += 1\n",
    "            page_text = page.extract_text()\n",
    "            return page_text+f'\\n\\n\\n----> PAGE {page_count} <----\\n\\n\\n'"
   ]
  },
  {
   "cell_type": "code",
   "execution_count": 44,
   "id": "2cd9c80a-6375-4265-8dab-bfc5ada8510b",
   "metadata": {},
   "outputs": [],
   "source": [
    "test['pdf_text'] = test['file_name'].map(lambda x: get_pdf_text(path=x))"
   ]
  },
  {
   "cell_type": "code",
   "execution_count": 45,
   "id": "5c0a6bb5-3e99-45ba-a237-923afb0f58d5",
   "metadata": {},
   "outputs": [
    {
     "data": {
      "text/html": [
       "<div>\n",
       "<style scoped>\n",
       "    .dataframe tbody tr th:only-of-type {\n",
       "        vertical-align: middle;\n",
       "    }\n",
       "\n",
       "    .dataframe tbody tr th {\n",
       "        vertical-align: top;\n",
       "    }\n",
       "\n",
       "    .dataframe thead th {\n",
       "        text-align: right;\n",
       "    }\n",
       "</style>\n",
       "<table border=\"1\" class=\"dataframe\">\n",
       "  <thead>\n",
       "    <tr style=\"text-align: right;\">\n",
       "      <th></th>\n",
       "      <th>file_name</th>\n",
       "      <th>col2</th>\n",
       "      <th>pdf_text</th>\n",
       "    </tr>\n",
       "  </thead>\n",
       "  <tbody>\n",
       "    <tr>\n",
       "      <th>0</th>\n",
       "      <td>SDS DS 5559 Spring 2021 Syllabus.pdf</td>\n",
       "      <td>SDS DS 5559 Spring 2021 Syllabus.pdfTEST</td>\n",
       "      <td>Big Data Systems\\nOverview\\nInstructor Name an...</td>\n",
       "    </tr>\n",
       "    <tr>\n",
       "      <th>1</th>\n",
       "      <td>DS 6014 Syllabus Spring 2021.pdf</td>\n",
       "      <td>DS 6014 Syllabus Spring 2021.pdfTEST</td>\n",
       "      <td>Bayesian Machine Learning \\nOverview \\nInstruc...</td>\n",
       "    </tr>\n",
       "    <tr>\n",
       "      <th>2</th>\n",
       "      <td>nlp_cheatsheet.pdf</td>\n",
       "      <td>nlp_cheatsheet.pdfTEST</td>\n",
       "      <td>© CFA Institute. For personal use only. Not fo...</td>\n",
       "    </tr>\n",
       "    <tr>\n",
       "      <th>3</th>\n",
       "      <td>syllabus.pdf</td>\n",
       "      <td>syllabus.pdfTEST</td>\n",
       "      <td>UNIVERSITY OF VIRGINIA  FALL 2021\\nDS 6001: Pr...</td>\n",
       "    </tr>\n",
       "  </tbody>\n",
       "</table>\n",
       "</div>"
      ],
      "text/plain": [
       "                              file_name  \\\n",
       "0  SDS DS 5559 Spring 2021 Syllabus.pdf   \n",
       "1      DS 6014 Syllabus Spring 2021.pdf   \n",
       "2                    nlp_cheatsheet.pdf   \n",
       "3                          syllabus.pdf   \n",
       "\n",
       "                                       col2  \\\n",
       "0  SDS DS 5559 Spring 2021 Syllabus.pdfTEST   \n",
       "1      DS 6014 Syllabus Spring 2021.pdfTEST   \n",
       "2                    nlp_cheatsheet.pdfTEST   \n",
       "3                          syllabus.pdfTEST   \n",
       "\n",
       "                                            pdf_text  \n",
       "0  Big Data Systems\\nOverview\\nInstructor Name an...  \n",
       "1  Bayesian Machine Learning \\nOverview \\nInstruc...  \n",
       "2  © CFA Institute. For personal use only. Not fo...  \n",
       "3  UNIVERSITY OF VIRGINIA  FALL 2021\\nDS 6001: Pr...  "
      ]
     },
     "execution_count": 45,
     "metadata": {},
     "output_type": "execute_result"
    }
   ],
   "source": [
    "test"
   ]
  },
  {
   "cell_type": "code",
   "execution_count": 49,
   "id": "a31454df-1687-468e-9290-6333d0e91848",
   "metadata": {},
   "outputs": [
    {
     "data": {
      "text/plain": [
       "'Big Data Systems\\nOverview\\nInstructor Name and Contact Information:\\nAdam Tashman\\nEmail:apt4c@virginia.edu\\nSubject Area and Catalog Number:Data Science DS 5110\\nYear and Term:Summer 2021\\nClass Title:Big Data Systems\\nLevel:Graduate\\nCredit Type:Graded\\nClass Description\\nIncreasingly, data scientists and data engineers areworking with datasets that exceed the memory of a\\nsingle machine. This motivates the need for a differentparadigm of computing and a different toolset.\\nThis course will prepare you for this use case.\\nThe focus of the course is learning Spark, an open-source,general-purpose computing framework that is\\nscalable and blazingly fast. The fundamental datatypes and concepts will be covered (e.g., resilient\\ndistributed datasets, DataFrames). You will learnhow to use Spark for large-scale analytics and machine\\nlearning, among other topics. Tools for data storageand retrieval will be covered, including AWS andthe\\nHadoop ecosystem.\\nA team project is a large component of the course,whereby you will conduct an end-to-end data science\\nproject. This simulates the workflow of a professionaldata scientist, from developing a hypothesis to\\ncommunicating with stakeholders.\\n\\n\\n----> PAGE 1 <----\\n\\n\\n'"
      ]
     },
     "execution_count": 49,
     "metadata": {},
     "output_type": "execute_result"
    }
   ],
   "source": [
    "test.iloc[0,2]"
   ]
  },
  {
   "cell_type": "code",
   "execution_count": 50,
   "id": "96be17b1-aa2f-420b-b880-3b7e8608376f",
   "metadata": {},
   "outputs": [],
   "source": [
    "test = test[['file_name', 'pdf_text']]"
   ]
  },
  {
   "cell_type": "code",
   "execution_count": 51,
   "id": "fe794a09-ee2d-445b-881a-8ce4525d5d55",
   "metadata": {},
   "outputs": [],
   "source": [
    "test.to_csv('test_pdf_df.csv')"
   ]
  },
  {
   "cell_type": "code",
   "execution_count": null,
   "id": "d21418fd-4bb3-4534-990f-0da93475c097",
   "metadata": {},
   "outputs": [],
   "source": []
  }
 ],
 "metadata": {
  "kernelspec": {
   "display_name": "Python 3 (ipykernel)",
   "language": "python",
   "name": "python3"
  },
  "language_info": {
   "codemirror_mode": {
    "name": "ipython",
    "version": 3
   },
   "file_extension": ".py",
   "mimetype": "text/x-python",
   "name": "python",
   "nbconvert_exporter": "python",
   "pygments_lexer": "ipython3",
   "version": "3.8.10"
  }
 },
 "nbformat": 4,
 "nbformat_minor": 5
}
